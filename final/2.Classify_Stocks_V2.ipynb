{
 "cells": [
  {
   "cell_type": "markdown",
   "metadata": {
    "nbgrader": {
     "grade": false,
     "grade_id": "cell-2beb19248750c680",
     "locked": true,
     "schema_version": 1,
     "solution": false
    }
   },
   "source": [
    "# Stock Sector prediction using XGBoost\n",
    "PCA provides a low dimensional representation of the correlations between price changes in stock.\n",
    "As was explained in the previous notebook, these correlations correspond to the fact that the prices of similar stocks react similarly to news about changes in the market environment.\n",
    "\n",
    "In this notebook you will use boosted trees to predict the sector of test stocks. You will use as features the the coefficients of the 20 top eigenvectors as a representation of the stock.\n",
    "\n",
    "You will not know whether your predicions are correct. However, by splitting the training set into a smaller training set and a validation set, you would be able to estimate the error that your classifier will incur on the test set."
   ]
  },
  {
   "cell_type": "code",
   "execution_count": 1,
   "metadata": {
    "ExecuteTime": {
     "end_time": "2018-12-27T14:23:04.324386Z",
     "start_time": "2018-12-27T14:22:59.494779Z"
    },
    "nbgrader": {
     "grade": false,
     "grade_id": "cell-dd2433d1712e4dd7",
     "locked": true,
     "schema_version": 1,
     "solution": false
    }
   },
   "outputs": [
    {
     "name": "stdout",
     "output_type": "stream",
     "text": [
      "Populating the interactive namespace from numpy and matplotlib\n"
     ]
    }
   ],
   "source": [
    "import pickle\n",
    "import pandas as pd\n",
    "import numpy as np\n",
    "import xgboost as xgb\n",
    "from sklearn.model_selection import train_test_split\n",
    "%pylab inline"
   ]
  },
  {
   "cell_type": "markdown",
   "metadata": {
    "nbgrader": {
     "grade": false,
     "grade_id": "cell-35c72b8f613eae6b",
     "locked": true,
     "schema_version": 1,
     "solution": false
    }
   },
   "source": [
    "## Read PCA parameters"
   ]
  },
  {
   "cell_type": "code",
   "execution_count": 2,
   "metadata": {
    "ExecuteTime": {
     "end_time": "2018-12-27T14:23:39.043853Z",
     "start_time": "2018-12-27T14:23:39.000204Z"
    },
    "nbgrader": {
     "grade": false,
     "grade_id": "cell-a7dfa39380b67535",
     "locked": true,
     "schema_version": 1,
     "solution": false
    },
    "scrolled": true
   },
   "outputs": [],
   "source": [
    "D=pickle.load(open('data/PCA_true.pickle','rb'))\n",
    "col=D['columns']\n",
    "eigvec=D['eigvec']\n",
    "eigval=D['eigval']"
   ]
  },
  {
   "cell_type": "markdown",
   "metadata": {
    "nbgrader": {
     "grade": false,
     "grade_id": "cell-9f516e49dc08b136",
     "locked": true,
     "schema_version": 1,
     "solution": false
    }
   },
   "source": [
    "### Sanity check\n",
    "The following scatterplot should be very similar to the scatter plot you produced in the first notebook for eigvec 1, eigvec 2 (indexing starts with 1)"
   ]
  },
  {
   "cell_type": "code",
   "execution_count": 3,
   "metadata": {
    "ExecuteTime": {
     "end_time": "2018-12-27T14:24:04.423127Z",
     "start_time": "2018-12-27T14:24:04.212831Z"
    }
   },
   "outputs": [
    {
     "data": {
      "text/plain": [
       "<matplotlib.collections.PathCollection at 0x7f232c025518>"
      ]
     },
     "execution_count": 3,
     "metadata": {},
     "output_type": "execute_result"
    },
    {
     "data": {
      "image/png": "[encoded data removed]",
      "text/plain": [
       "<Figure size 432x288 with 1 Axes>"
      ]
     },
     "metadata": {},
     "output_type": "display_data"
    }
   ],
   "source": [
    "# My Code\n",
    "scatter(eigvec[:,0],eigvec[:,1])"
   ]
  },
  {
   "cell_type": "code",
   "execution_count": 3,
   "metadata": {
    "ExecuteTime": {
     "end_time": "2018-07-18T22:30:04.018759Z",
     "start_time": "2018-07-18T22:30:03.838756Z"
    },
    "nbgrader": {
     "grade": false,
     "grade_id": "cell-89d72fab9ee2f887",
     "locked": true,
     "schema_version": 1,
     "solution": false
    }
   },
   "outputs": [
    {
     "data": {
      "text/plain": [
       "<matplotlib.collections.PathCollection at 0x7f14fd7974a8>"
      ]
     },
     "execution_count": 3,
     "metadata": {},
     "output_type": "execute_result"
    },
    {
     "data": {
      "image/png": "[encoded data removed]",
      "text/plain": [
       "<matplotlib.figure.Figure at 0x7f153c4ce5c0>"
      ]
     },
     "metadata": {},
     "output_type": "display_data"
    }
   ],
   "source": [
    "scatter(eigvec[:,0],eigvec[:,1])"
   ]
  },
  {
   "cell_type": "markdown",
   "metadata": {
    "nbgrader": {
     "grade": false,
     "grade_id": "cell-caead6f6257eae66",
     "locked": true,
     "schema_version": 1,
     "solution": false
    }
   },
   "source": [
    "## compute features\n",
    "\n",
    "The features that we use are the coefficients of the top 20 eigenvectors.\n",
    "\n",
    "Those can be read directly from the eigenvectors matrix."
   ]
  },
  {
   "cell_type": "code",
   "execution_count": 4,
   "metadata": {
    "ExecuteTime": {
     "end_time": "2018-12-28T01:52:47.327695Z",
     "start_time": "2018-12-28T01:52:47.316139Z"
    },
    "nbgrader": {
     "grade": false,
     "grade_id": "cell-25ab4021327ffdfd",
     "locked": true,
     "schema_version": 1,
     "solution": false
    }
   },
   "outputs": [
    {
     "data": {
      "text/plain": [
       "(481, 20)"
      ]
     },
     "execution_count": 4,
     "metadata": {},
     "output_type": "execute_result"
    }
   ],
   "source": [
    "#Taking the top 20 features(Eigen vectors)\n",
    "features=eigvec[:,:20]\n",
    "features.shape"
   ]
  },
  {
   "cell_type": "markdown",
   "metadata": {
    "nbgrader": {
     "grade": false,
     "grade_id": "cell-9eeb8f35efa872a6",
     "locked": true,
     "schema_version": 1,
     "solution": false
    }
   },
   "source": [
    "##  Compute labels (sectors)"
   ]
  },
  {
   "cell_type": "code",
   "execution_count": 5,
   "metadata": {
    "ExecuteTime": {
     "end_time": "2018-12-28T01:52:54.227338Z",
     "start_time": "2018-12-28T01:52:54.105617Z"
    },
    "nbgrader": {
     "grade": false,
     "grade_id": "cell-904d92c63c6ced4f",
     "locked": true,
     "schema_version": 1,
     "solution": false
    },
    "scrolled": true
   },
   "outputs": [
    {
     "name": "stdout",
     "output_type": "stream",
     "text": [
      "(505, 5)\n"
     ]
    },
    {
     "data": {
      "text/html": [
       "<div>\n",
       "<style scoped>\n",
       "    .dataframe tbody tr th:only-of-type {\n",
       "        vertical-align: middle;\n",
       "    }\n",
       "\n",
       "    .dataframe tbody tr th {\n",
       "        vertical-align: top;\n",
       "    }\n",
       "\n",
       "    .dataframe thead th {\n",
       "        text-align: right;\n",
       "    }\n",
       "</style>\n",
       "<table border=\"1\" class=\"dataframe\">\n",
       "  <thead>\n",
       "    <tr style=\"text-align: right;\">\n",
       "      <th></th>\n",
       "      <th>Unnamed: 0</th>\n",
       "      <th>Ticker</th>\n",
       "      <th>Name</th>\n",
       "      <th>Sector</th>\n",
       "      <th>SECTOR_ID</th>\n",
       "    </tr>\n",
       "  </thead>\n",
       "  <tbody>\n",
       "    <tr>\n",
       "      <th>0</th>\n",
       "      <td>0</td>\n",
       "      <td>MMM</td>\n",
       "      <td>3M|3M Company</td>\n",
       "      <td>Industrials</td>\n",
       "      <td>INDS</td>\n",
       "    </tr>\n",
       "    <tr>\n",
       "      <th>1</th>\n",
       "      <td>1</td>\n",
       "      <td>ABT</td>\n",
       "      <td>Abbott Laboratories</td>\n",
       "      <td>Health Care</td>\n",
       "      <td>HC</td>\n",
       "    </tr>\n",
       "    <tr>\n",
       "      <th>2</th>\n",
       "      <td>2</td>\n",
       "      <td>ABBV</td>\n",
       "      <td>AbbVie Inc.</td>\n",
       "      <td>Health Care</td>\n",
       "      <td>HC</td>\n",
       "    </tr>\n",
       "    <tr>\n",
       "      <th>3</th>\n",
       "      <td>3</td>\n",
       "      <td>ACN</td>\n",
       "      <td>Accenture plc</td>\n",
       "      <td>Information Technology</td>\n",
       "      <td>IT</td>\n",
       "    </tr>\n",
       "    <tr>\n",
       "      <th>4</th>\n",
       "      <td>4</td>\n",
       "      <td>ATVI</td>\n",
       "      <td>Activision Blizzard</td>\n",
       "      <td>Information Technology</td>\n",
       "      <td>IT</td>\n",
       "    </tr>\n",
       "  </tbody>\n",
       "</table>\n",
       "</div>"
      ],
      "text/plain": [
       "   Unnamed: 0 Ticker                 Name                  Sector SECTOR_ID\n",
       "0           0    MMM        3M|3M Company             Industrials      INDS\n",
       "1           1    ABT  Abbott Laboratories             Health Care        HC\n",
       "2           2   ABBV          AbbVie Inc.             Health Care        HC\n",
       "3           3    ACN        Accenture plc  Information Technology        IT\n",
       "4           4   ATVI  Activision Blizzard  Information Technology        IT"
      ]
     },
     "execution_count": 5,
     "metadata": {},
     "output_type": "execute_result"
    }
   ],
   "source": [
    "TickerInfo=pd.read_csv('data/tickerInfo.tsv',sep='\\t')\n",
    "print(TickerInfo.shape)\n",
    "TickerInfo.head()"
   ]
  },
  {
   "cell_type": "markdown",
   "metadata": {
    "nbgrader": {
     "grade": false,
     "grade_id": "cell-e270636f68791e01",
     "locked": true,
     "schema_version": 1,
     "solution": false
    }
   },
   "source": [
    "### Reading Dictionaries\n",
    "XGBoost, when used for multi-class classification, requires the labels to be integers.\n",
    "\n",
    "We therefore provide dictionaries that map between sector name, Sector ID and numbers.\n"
   ]
  },
  {
   "cell_type": "code",
   "execution_count": 6,
   "metadata": {
    "ExecuteTime": {
     "end_time": "2018-12-28T01:53:12.262205Z",
     "start_time": "2018-12-28T01:53:12.252223Z"
    },
    "nbgrader": {
     "grade": false,
     "grade_id": "cell-7e163b9f4a2312c8",
     "locked": true,
     "schema_version": 1,
     "solution": false
    }
   },
   "outputs": [],
   "source": [
    "Sectors={'Consumer Discretionary':'CD',\n",
    " 'Consumer Staples':'CS',\n",
    " 'Energy':'EN',\n",
    " 'Financials':'FIN',\n",
    " 'Health Care':'HC',\n",
    " 'Industrials':'INDS',\n",
    " 'Information Technology':'IT',\n",
    " 'Materials':'MAT',\n",
    " 'Real Estate':'RE',\n",
    " 'Telecommunication Services':'TS',\n",
    " 'Utilities':'UTIL'}\n"
   ]
  },
  {
   "cell_type": "code",
   "execution_count": 7,
   "metadata": {
    "ExecuteTime": {
     "end_time": "2018-12-28T01:53:12.848803Z",
     "start_time": "2018-12-28T01:53:12.840403Z"
    },
    "nbgrader": {
     "grade": false,
     "grade_id": "abc23",
     "locked": true,
     "solution": false
    },
    "scrolled": true
   },
   "outputs": [],
   "source": [
    "sector2number={'CD': 0,\n",
    " 'CS': 1,\n",
    " 'EN': 2,\n",
    " 'FIN': 3,\n",
    " 'HC': 4,\n",
    " 'INDS': 5,\n",
    " 'IT': 6,\n",
    " 'MAT': 7,\n",
    " 'RE': 8,\n",
    " 'TS': 9,\n",
    " 'UTIL': 10}"
   ]
  },
  {
   "cell_type": "code",
   "execution_count": 8,
   "metadata": {
    "ExecuteTime": {
     "end_time": "2018-12-28T01:53:13.400794Z",
     "start_time": "2018-12-28T01:53:13.390820Z"
    },
    "nbgrader": {
     "grade": false,
     "grade_id": "abc22",
     "locked": true,
     "solution": false
    }
   },
   "outputs": [],
   "source": [
    "number2sectorName=\\\n",
    "{0: 'Consumer Discretionary',\n",
    " 1: 'Consumer Staples',\n",
    " 2: 'Energy',\n",
    " 3: 'Financials',\n",
    " 4: 'Health Care',\n",
    " 5: 'Industrials',\n",
    " 6: 'Information Technology',\n",
    " 7: 'Materials',\n",
    " 8: 'Real Estate',\n",
    " 9: 'Telecommunication Services',\n",
    " 10: 'Utilities'}"
   ]
  },
  {
   "cell_type": "markdown",
   "metadata": {
    "nbgrader": {
     "grade": false,
     "grade_id": "cell-a5936b65dd2011dd",
     "locked": true,
     "schema_version": 1,
     "solution": false
    }
   },
   "source": [
    "### Construct the training and testing datasets"
   ]
  },
  {
   "cell_type": "code",
   "execution_count": 9,
   "metadata": {
    "ExecuteTime": {
     "end_time": "2018-12-28T01:54:16.536371Z",
     "start_time": "2018-12-28T01:54:16.222673Z"
    },
    "nbgrader": {
     "grade": false,
     "grade_id": "cell-76dfe40b2999cb01",
     "locked": true,
     "schema_version": 1,
     "solution": false
    }
   },
   "outputs": [],
   "source": [
    "labels=[]\n",
    "feature_vectors=[]\n",
    "feature_vectors_test=[]\n",
    "test_nos = []\n",
    "for i in range(len(col)):\n",
    "    c=col[i]\n",
    "    if 'train' in c:\n",
    "        ticker=c[6:-2]\n",
    "        answer=list(TickerInfo[TickerInfo.Ticker==ticker]['SECTOR_ID'])\n",
    "        if len(answer)==1:\n",
    "            sector_no=sector2number[answer[0]]\n",
    "            labels.append(sector_no)\n",
    "            feature_vectors.append(features[i,:])\n",
    "        else:\n",
    "            print('error: could not find sector for ticker:',ticker)\n",
    "    if 'test' in c:\n",
    "        test_nos.append(c[5:-2])\n",
    "        feature_vectors_test.append(features[i,:])"
   ]
  },
  {
   "cell_type": "code",
   "execution_count": 10,
   "metadata": {
    "ExecuteTime": {
     "end_time": "2018-12-28T01:54:16.958140Z",
     "start_time": "2018-12-28T01:54:16.949251Z"
    },
    "nbgrader": {
     "grade": false,
     "grade_id": "cell-cd496764aef3e72c",
     "locked": true,
     "schema_version": 1,
     "solution": false
    }
   },
   "outputs": [
    {
     "data": {
      "text/plain": [
       "(392, 392, 89, 89)"
      ]
     },
     "execution_count": 10,
     "metadata": {},
     "output_type": "execute_result"
    }
   ],
   "source": [
    "#verify lengths\n",
    "len(labels),len(feature_vectors), len(test_nos),len(feature_vectors_test)"
   ]
  },
  {
   "cell_type": "markdown",
   "metadata": {
    "nbgrader": {
     "grade": false,
     "grade_id": "abcc",
     "locked": false,
     "solution": false
    }
   },
   "source": [
    "## Placing the data into numpy arrays as expected by xgboost"
   ]
  },
  {
   "cell_type": "code",
   "execution_count": 11,
   "metadata": {
    "ExecuteTime": {
     "end_time": "2018-12-28T01:54:32.953695Z",
     "start_time": "2018-12-28T01:54:32.940301Z"
    },
    "nbgrader": {
     "grade": false,
     "grade_id": "cell-5354908ece6c0677",
     "locked": true,
     "schema_version": 1,
     "solution": false
    }
   },
   "outputs": [
    {
     "data": {
      "text/plain": [
       "((392, 20), (392,), (89, 20))"
      ]
     },
     "execution_count": 11,
     "metadata": {},
     "output_type": "execute_result"
    }
   ],
   "source": [
    "X=np.array(feature_vectors)\n",
    "y=np.array(labels)\n",
    "X_test = np.array(feature_vectors_test)\n",
    "X.shape, y.shape, X_test.shape"
   ]
  },
  {
   "cell_type": "code",
   "execution_count": 12,
   "metadata": {
    "ExecuteTime": {
     "end_time": "2018-12-28T01:54:37.048467Z",
     "start_time": "2018-12-28T01:54:37.030691Z"
    },
    "nbgrader": {
     "grade": false,
     "grade_id": "cell-2f563a060a7dabb5",
     "locked": true,
     "schema_version": 1,
     "solution": false
    }
   },
   "outputs": [
    {
     "data": {
      "text/plain": [
       "((274, 20), (118, 20))"
      ]
     },
     "execution_count": 12,
     "metadata": {},
     "output_type": "execute_result"
    }
   ],
   "source": [
    "#Splitting the labeled data (X,y) into train and validation\n",
    "X_train, X_valid, y_train, y_valid = train_test_split(X, y, test_size=0.30, random_state=6)\n",
    "X_train.shape, X_valid.shape"
   ]
  },
  {
   "cell_type": "code",
   "execution_count": 13,
   "metadata": {
    "ExecuteTime": {
     "end_time": "2018-12-28T01:54:39.474632Z",
     "start_time": "2018-12-28T01:54:39.462347Z"
    },
    "nbgrader": {
     "grade": false,
     "grade_id": "cell-e8794feabbdf7ddb",
     "locked": true,
     "schema_version": 1,
     "solution": false
    }
   },
   "outputs": [],
   "source": [
    "#Parameters\n",
    "param = {}\n",
    "param['max_depth']= 3   # depth of tree\n",
    "param['eta'] = 0.3      # shrinkage parameter\n",
    "param['silent'] = 1     # not silent\n",
    "param['objective'] = 'multi:softmax'\n",
    "param['nthread'] = 7 # Number of threads used\n",
    "param['num_class']=11\n",
    "\n",
    "num_round = 100"
   ]
  },
  {
   "cell_type": "markdown",
   "metadata": {
    "nbgrader": {
     "grade": false,
     "grade_id": "cell-e9687a05751d0ab1",
     "locked": true,
     "schema_version": 1,
     "solution": false
    }
   },
   "source": [
    "## Generating scores using XGBoost\n",
    "\n",
    "The function <font color=\"blue\">get_margin_scores</font> is used to predict the sector for each of the given samples.\n",
    "\n",
    "**<font color=\"magenta\" size=2>Input</font>**\n",
    "<br>\n",
    "1. **Training set** (X_train)\n",
    "2. **Validation set** (X_valid)\n",
    "3. **Training labels** (y_train)\n",
    "4. **XGBoost Parameter List** (param)\n",
    "\n",
    "\n",
    "**<font color=\"blue\" size=2>Output</font>**\n",
    "<br>\n",
    "Return the following:\n",
    "1. **y_pred_valid**: The raw output scores for the validation set\n",
    "\n",
    "\n",
    "**Note**:\n",
    "1. Round all raw scores to **three** decimal places\n",
    "2. Remember to use **verbose_eval = False** while training.\n",
    "3. Remember to provide the **num_round** parameter while training and do not change it. We have currently set it to 100 (Refer to previous cell). Not providing the parameter or changing it could produce different results.\n",
    "4. Documentation for XGBoost Python API is [here](https://xgboost.readthedocs.io/en/latest/python/python_intro.html)\n",
    "\n",
    "**All but one of the lines of the function have been filled. You need only fill the one missing line that trains the model. Check the XGBoost documentation for instructions on using train() function for XGBoost**"
   ]
  },
  {
   "cell_type": "code",
   "execution_count": 15,
   "metadata": {
    "ExecuteTime": {
     "end_time": "2018-12-28T01:58:53.635196Z",
     "start_time": "2018-12-28T01:58:53.616125Z"
    },
    "nbgrader": {
     "grade": false,
     "grade_id": "cell-0e8f383f79318be9",
     "locked": false,
     "schema_version": 1,
     "solution": true
    }
   },
   "outputs": [],
   "source": [
    "def get_margin_scores(X_train, X_valid, y_train, param):\n",
    "    dtrain = xgb.DMatrix(X_train, label=y_train)\n",
    "    evallist = [(dtrain, 'train')]\n",
    "    plst = param.items()\n",
    "    #\n",
    "    # YOUR CODE HERE\n",
    "    #\n",
    "    bst = xgb.train(plst, dtrain, num_round, evallist, verbose_eval=False)\n",
    "    dvalid = xgb.DMatrix(X_valid)\n",
    "    y_pred_valid = bst.predict(dvalid, ntree_limit=bst.best_ntree_limit, output_margin=True)\n",
    "    y_pred_valid = np.around(y_pred_valid, decimals = 3)\n",
    "    return y_pred_valid\n"
   ]
  },
  {
   "cell_type": "code",
   "execution_count": 47,
   "metadata": {
    "ExecuteTime": {
     "end_time": "2018-12-28T02:21:16.492187Z",
     "start_time": "2018-12-28T02:21:14.837522Z"
    },
    "nbgrader": {
     "grade": false,
     "grade_id": "cell-b9e317c1fa1f35d3",
     "locked": true,
     "schema_version": 1,
     "solution": false
    }
   },
   "outputs": [],
   "source": [
    "y_pred_valid = get_margin_scores(X_train, X_valid, y_train, param)"
   ]
  },
  {
   "cell_type": "code",
   "execution_count": 48,
   "metadata": {
    "ExecuteTime": {
     "end_time": "2018-12-28T02:21:17.874205Z",
     "start_time": "2018-12-28T02:21:17.866501Z"
    },
    "nbgrader": {
     "grade": true,
     "grade_id": "cell-121c650f46b392f8",
     "locked": true,
     "points": 0,
     "schema_version": 1,
     "solution": false
    }
   },
   "outputs": [],
   "source": [
    "assert y_pred_valid.shape == (118, 11), \"Incorrect shape\"\n",
    "assert type(y_pred_valid) == numpy.ndarray, \"Incorrect type\""
   ]
  },
  {
   "cell_type": "code",
   "execution_count": 49,
   "metadata": {
    "ExecuteTime": {
     "end_time": "2018-12-28T02:21:20.621320Z",
     "start_time": "2018-12-28T02:21:20.603845Z"
    },
    "nbgrader": {
     "grade": true,
     "grade_id": "NoM_eql_0",
     "locked": true,
     "points": 5,
     "schema_version": 1,
     "solution": false
    }
   },
   "outputs": [
    {
     "data": {
      "text/plain": [
       "array([[-0.347, -3.01 , -1.557, ...,  6.04 , -3.06 , -2.764],\n",
       "       [ 0.274, -1.584, -2.223, ..., -1.715, -2.847, -2.764],\n",
       "       [-3.213, -0.942, -1.678, ..., -3.222, -2.962, -2.764],\n",
       "       ...,\n",
       "       [-3.061, -0.613, -3.024, ..., -3.198, -2.749, -2.764],\n",
       "       [ 0.077, -2.768, -1.557, ..., -1.563, -3.06 , -2.764],\n",
       "       [-3.263, -1.683, -2.316, ..., -2.117, -2.847, -2.764]],\n",
       "      dtype=float32)"
      ]
     },
     "execution_count": 49,
     "metadata": {},
     "output_type": "execute_result"
    }
   ],
   "source": [
    "# Hidden Tests Here\n",
    "#If rounding off is the problem, give them 6 points out of 8\n",
    "#\n",
    "# AUTOGRADER TEST - DO NOT REMOVE\n",
    "#\n",
    "y_pred_valid\n"
   ]
  },
  {
   "cell_type": "code",
   "execution_count": 19,
   "metadata": {
    "ExecuteTime": {
     "end_time": "2018-12-28T01:58:59.936557Z",
     "start_time": "2018-12-28T01:58:59.932295Z"
    },
    "nbgrader": {
     "grade": true,
     "grade_id": "NoM_lt_100",
     "locked": true,
     "points": 10,
     "schema_version": 1,
     "solution": false
    }
   },
   "outputs": [],
   "source": [
    "#\n",
    "# AUTOGRADER TEST - DO NOT REMOVE\n",
    "#\n"
   ]
  },
  {
   "cell_type": "code",
   "execution_count": 20,
   "metadata": {
    "ExecuteTime": {
     "end_time": "2018-12-28T01:59:00.390434Z",
     "start_time": "2018-12-28T01:59:00.386999Z"
    },
    "nbgrader": {
     "grade": true,
     "grade_id": "NoM_lt_400",
     "locked": true,
     "points": 5,
     "schema_version": 1,
     "solution": false
    }
   },
   "outputs": [],
   "source": [
    "#\n",
    "# AUTOGRADER TEST - DO NOT REMOVE\n",
    "#\n"
   ]
  },
  {
   "cell_type": "markdown",
   "metadata": {
    "nbgrader": {
     "grade": false,
     "grade_id": "cell-64d5475ceb1f9cdb",
     "locked": true,
     "schema_version": 1,
     "solution": false
    }
   },
   "source": [
    "## Computing Top1 and Top5 predictions\n",
    "\n",
    "Using the margin scores generated, calculate the top1 and top5 predictions for the given data:\n",
    "\n",
    "**top1**: Find the highest scoring prediction for each example in the validation set\n",
    "\n",
    "**top5**: Find the top 5 highest scoring predictions in descending order for each example in the validation set (Highest to lowest)\n",
    "\n",
    "**<font color=\"magenta\" size=2>Input</font>**\n",
    "\n",
    "1. **Validation Output Scores** (y_pred_valid)\n",
    "\n",
    "**<font color=\"blue\" size=2>Output</font>**\n",
    "\n",
    "1. **predictions_valid**: The index for highest scoring prediction for each example in the the validation set\n",
    "2. **predictions_topn**: The indices for the top 5 highest scoring prodictions for each example in the validation set\n",
    "\n",
    "**<font color=\"magenta\" size=2>Sample input</font>**\n",
    "1. **y_pred_valid**: [[-0.3, 1.2, 0.3, 0.5, -0.4, 0.0, 0.01, 1.0, -1.3, 0.2, -1.2], [0.4, -0.5, 1.3, -0.2, 0.6, -2.2, -0.8, 1.9, 0.9, -0.2, -1.7]]\n",
    "\n",
    "**<font color=\"blue\" size=2>Sample output</font>** \n",
    "1. **predictions_valid**: [1, 7]\n",
    "2. **predictions_top5**: [[1,  7,  3,  2,  9], [ 7,  2,  8,  4,  0]]"
   ]
  },
  {
   "cell_type": "code",
   "execution_count": 45,
   "metadata": {
    "ExecuteTime": {
     "end_time": "2018-12-28T02:21:05.287885Z",
     "start_time": "2018-12-28T02:21:05.279239Z"
    },
    "nbgrader": {
     "grade": false,
     "grade_id": "cell-12ee152fd08b1fdf",
     "locked": false,
     "schema_version": 1,
     "solution": true
    }
   },
   "outputs": [],
   "source": [
    "def get_predictions(y_pred_valid):\n",
    "    #\n",
    "    # YOUR CODE HERE\n",
    "    #\n",
    "   \n",
    "    predictions_valid = np.argmax(y_pred_valid, axis=1)\n",
    "    predictions_top5 = np.argsort(y_pred_valid)[:,-5:][:,::-1]\n",
    "    return predictions_valid, predictions_top5\n",
    "    \n"
   ]
  },
  {
   "cell_type": "code",
   "execution_count": 46,
   "metadata": {
    "ExecuteTime": {
     "end_time": "2018-12-28T02:21:09.134685Z",
     "start_time": "2018-12-28T02:21:09.114810Z"
    }
   },
   "outputs": [
    {
     "name": "stdout",
     "output_type": "stream",
     "text": [
      "[1 7]\n",
      "[[1 7 3 2 9]\n",
      " [7 2 8 4 0]]\n"
     ]
    }
   ],
   "source": [
    "y_pred_valid_test = [[-0.3, 1.2, 0.3, 0.5, -0.4, 0.0, 0.01, 1.0, -1.3, 0.2, -1.2], [0.4, -0.5, 1.3, -0.2, 0.6, -2.2, -0.8, 1.9, 0.9, -0.2, -1.7]]\n",
    "predictions_valid, predictions_top5 = get_predictions(y_pred_valid_test)\n",
    "print(predictions_valid)\n",
    "print(predictions_top5)"
   ]
  },
  {
   "cell_type": "code",
   "execution_count": 50,
   "metadata": {
    "ExecuteTime": {
     "end_time": "2018-12-28T02:21:28.111816Z",
     "start_time": "2018-12-28T02:21:28.103556Z"
    }
   },
   "outputs": [],
   "source": [
    "predictions_valid, predictions_top5 = get_predictions(y_pred_valid)"
   ]
  },
  {
   "cell_type": "code",
   "execution_count": 51,
   "metadata": {
    "ExecuteTime": {
     "end_time": "2018-12-28T02:21:29.845283Z",
     "start_time": "2018-12-28T02:21:29.836235Z"
    },
    "nbgrader": {
     "grade": true,
     "grade_id": "cell-02be6a89a5e44753",
     "locked": true,
     "points": 0,
     "schema_version": 1,
     "solution": false
    }
   },
   "outputs": [],
   "source": [
    "assert predictions_valid.shape == (118,), \"Incorrect shape\"\n",
    "assert predictions_top5.shape == (118, 5), \"Incorrect shape\"\n",
    "assert type(predictions_valid) == numpy.ndarray, \"Incorrect type\"\n",
    "assert type(predictions_top5) == numpy.ndarray, \"Incorrect type\""
   ]
  },
  {
   "cell_type": "code",
   "execution_count": 52,
   "metadata": {
    "ExecuteTime": {
     "end_time": "2018-12-28T02:21:32.721564Z",
     "start_time": "2018-12-28T02:21:32.711358Z"
    },
    "nbgrader": {
     "grade": true,
     "grade_id": "cell-38231ddef36ec299",
     "locked": true,
     "points": 0,
     "schema_version": 1,
     "solution": false
    }
   },
   "outputs": [],
   "source": [
    "# Check if you get the correct top4 for the first 3 elements.\n",
    "predictions_top5_first3=\\\n",
    "    array([[8, 3, 0, 6, 2],\n",
    "           [6, 0, 7, 1, 8],\n",
    "           [3, 7, 1, 5, 2]])\n",
    "assert (predictions_top5_first3 == predictions_top5[:3]).all(), \"Incorrect predictions\""
   ]
  },
  {
   "cell_type": "code",
   "execution_count": 24,
   "metadata": {
    "ExecuteTime": {
     "end_time": "2018-07-18T22:30:06.041779Z",
     "start_time": "2018-07-18T22:30:06.028745Z"
    },
    "collapsed": true,
    "nbgrader": {
     "grade": true,
     "grade_id": "y_pred_valid_true",
     "locked": true,
     "points": 8,
     "schema_version": 1,
     "solution": false
    }
   },
   "outputs": [],
   "source": [
    "# Hidden Tests Here\n",
    "#\n",
    "# AUTOGRADER TEST - DO NOT REMOVE\n",
    "#\n"
   ]
  },
  {
   "cell_type": "code",
   "execution_count": 25,
   "metadata": {
    "ExecuteTime": {
     "end_time": "2018-07-18T22:30:06.053794Z",
     "start_time": "2018-07-18T22:30:06.044251Z"
    },
    "collapsed": true,
    "nbgrader": {
     "grade": true,
     "grade_id": "predictions_top5_true",
     "locked": true,
     "points": 8,
     "schema_version": 1,
     "solution": false
    }
   },
   "outputs": [],
   "source": [
    "# Hidden Tests Here\n",
    "#\n",
    "# AUTOGRADER TEST - DO NOT REMOVE\n",
    "#\n"
   ]
  },
  {
   "cell_type": "markdown",
   "metadata": {
    "nbgrader": {
     "grade": false,
     "grade_id": "cell-d0013fc06c828433",
     "locked": true,
     "schema_version": 1,
     "solution": false
    }
   },
   "source": [
    "## Estimating accuracy\n",
    "We will now compute the accuracies of the predictions, where\n",
    "* **Top 1** is the fraction of examples on which the correct sector has the highest score.\n",
    "* **Top 2** is the fraction of examples on which the correct sector has the highest **or** the second highest score.\n",
    "* ...\n",
    "* **Top 5** is the fraction of examples on which the correct sector has one of the top 5 scores.\n",
    "\n",
    "These scores are all based on the training set. In principle, the errors on the test set can be different. However, if we assume that the test set and the train set are generated by the same distribution, then these are reasonable estimates of the accuracies that we expect to get."
   ]
  },
  {
   "cell_type": "code",
   "execution_count": 53,
   "metadata": {
    "ExecuteTime": {
     "end_time": "2018-12-28T02:22:21.489748Z",
     "start_time": "2018-12-28T02:22:21.475758Z"
    },
    "nbgrader": {
     "grade": false,
     "grade_id": "cell-67e0884f8fe20312",
     "locked": true,
     "schema_version": 1,
     "solution": false
    }
   },
   "outputs": [
    {
     "name": "stdout",
     "output_type": "stream",
     "text": [
      "Top  1 : \t 0.7203389830508474\n",
      "Top  2 : \t 0.864406779661017\n",
      "Top  3 : \t 0.9152542372881356\n",
      "Top  4 : \t 0.9322033898305084\n",
      "Top  5 : \t 0.9491525423728814\n"
     ]
    }
   ],
   "source": [
    "acc = 0\n",
    "for i in range(5):\n",
    "    acc += sum(predictions_top5[:, i]==y_valid)\n",
    "    print(\"Top \", i+1, \": \\t\", acc/len(y_valid))"
   ]
  },
  {
   "cell_type": "markdown",
   "metadata": {
    "nbgrader": {
     "grade": false,
     "grade_id": "cell-d839e3381ca150d2",
     "locked": true,
     "schema_version": 1,
     "solution": false
    }
   },
   "source": [
    "## Generating the confusion matrix\n",
    "\n",
    "What is a confusion matrix?\n",
    "This is a useful link that explains this: https://en.wikipedia.org/wiki/Confusion_matrix#Example\n",
    "\n",
    "We will now be using the top 2 values of **predictions_top5** to produce the confusion matrix. We will create the confusion matrix by considering the correct section $j$ and the two sections with the two highest scores $i_1,i_2$ where $score(i_1) > score(i_2)$.\n",
    "\n",
    "* A prediction is *correct* if $j=i_1$. correct examples are ignored.\n",
    "* The predicion $i_2$ is confused with $i_1$ if $j=i_2$\n",
    "* If $j \\neq i_1$ and $j \\neq i_2$ then the example is ignored. \n",
    "\n",
    "### Examples\n",
    "\n",
    "We consider two scenarios where the possible categories are `(0,1,2,3)`\n",
    "\n",
    "#### Scenario 1\n",
    "\n",
    "**<font color=\"magenta\" size=2>Sample Input</font>**<br>\n",
    "y_label = 3<br>\n",
    "top2_predictions = [2, 3]\n",
    "\n",
    "**<font color=\"blue\" size=2>Output</font>**<br>\n",
    "confusion_matrix:<br>\n",
    "[0 0 0 0]<br>\n",
    "[0 0 0 0]<br>\n",
    "[0 0 0 1]<br>\n",
    "[0 0 0 0]<br>\n",
    "**Explanation**:  \n",
    "The first example has top two predictions: (2, 3) and the label 3. So we add 1 to the position (2,3).\n",
    "\n",
    "#### Scenario 2\n",
    "\n",
    "**<font color=\"magenta\" size=2>Sample Input</font>**<br>\n",
    "Say we have 7 sample prediction values<br>\n",
    "y_label = [3, 2, 3, 1, 0, 2, 2]<br>\n",
    "top2_predictions = [[2, 3], [0, 3], [2, 3], [1, 2], [3, 0], [2, 0], [3, 2]]\n",
    "\n",
    "**<font color=\"blue\" size=2>Output</font>**<br>\n",
    "confusion_matrix:<br>\n",
    "[0 0 0 0]<br>\n",
    "[0 0 0 0]<br>\n",
    "[0 0 0 2]<br>\n",
    "[1 0 1 0]<br>\n",
    "\n",
    "**Explanation**:  \n",
    "The second example has 7 sample predictions: \n",
    "1. In two scenarios 2 is predicted in place of 3 and the cell (2,3) is incremented twice.\n",
    "2. In two other scenarios we have a case where the second prediction is right. The corresponding cells {(3,0) and (3,2)} are incremented once each.\n",
    "3. In two scenarios, the first element is the correct prediction. Thus no cell is incremented.\n",
    "4. In one scenario, neither of the top 2 predictions is correct. Thus no cell is incremented.\n",
    "\n",
    "**Note**: y_label is the same as y_valid here.\n",
    "\n",
    "**All but one of the lines of the function have been filled. You need only fill the one missing line that updates the confusion matrix if a confusion (i.e., sector that should be labeled top but is predicted second) happenes during a cycle**"
   ]
  },
  {
   "cell_type": "code",
   "execution_count": 54,
   "metadata": {
    "ExecuteTime": {
     "end_time": "2018-12-28T02:40:54.081932Z",
     "start_time": "2018-12-28T02:40:54.062358Z"
    },
    "nbgrader": {
     "grade": false,
     "grade_id": "cell-8e31e89d9f64d4d6",
     "locked": false,
     "schema_version": 1,
     "solution": true
    }
   },
   "outputs": [],
   "source": [
    "def get_confusion_matrix(predictions_top5, y_valid):\n",
    "    confusion_matrix = np.zeros((11,11), dtype=int64)\n",
    "    i=0\n",
    "    for entry in predictions_top5[:, :2]:\n",
    "        if entry[1] == y_valid[i]:\n",
    "            # update confusion_matrix\n",
    "            #\n",
    "            # YOUR CODE HERE\n",
    "            #\n",
    "            confusion_matrix[entry[0],y_valid[i]] += 1\n",
    "        i += 1\n",
    "    return confusion_matrix\n"
   ]
  },
  {
   "cell_type": "code",
   "execution_count": 55,
   "metadata": {
    "ExecuteTime": {
     "end_time": "2018-12-28T02:40:55.731975Z",
     "start_time": "2018-12-28T02:40:55.725068Z"
    },
    "nbgrader": {
     "grade": false,
     "grade_id": "cell-1ed771c7dfe188d5",
     "locked": true,
     "schema_version": 1,
     "solution": false
    }
   },
   "outputs": [],
   "source": [
    "confusion_matrix = get_confusion_matrix(predictions_top5, y_valid)"
   ]
  },
  {
   "cell_type": "code",
   "execution_count": 56,
   "metadata": {
    "ExecuteTime": {
     "end_time": "2018-12-28T02:40:57.120013Z",
     "start_time": "2018-12-28T02:40:57.112105Z"
    },
    "nbgrader": {
     "grade": true,
     "grade_id": "cell-157fe9078d64488b",
     "locked": true,
     "points": 0,
     "schema_version": 1,
     "solution": false
    }
   },
   "outputs": [],
   "source": [
    "assert confusion_matrix.shape == (11, 11), \"Incorrect shape\"\n",
    "assert type(confusion_matrix) == numpy.ndarray, \"Incorrect type\"\n",
    "assert type(confusion_matrix[0][0]) == numpy.int64, \"Incorrect type\""
   ]
  },
  {
   "cell_type": "code",
   "execution_count": 57,
   "metadata": {
    "ExecuteTime": {
     "end_time": "2018-12-28T02:40:58.545714Z",
     "start_time": "2018-12-28T02:40:58.538479Z"
    },
    "nbgrader": {
     "grade": true,
     "grade_id": "conf_matrix",
     "locked": true,
     "points": 9,
     "schema_version": 1,
     "solution": false
    }
   },
   "outputs": [],
   "source": [
    "# Hidden Tests Here\n",
    "#\n",
    "# AUTOGRADER TEST - DO NOT REMOVE\n",
    "#\n"
   ]
  },
  {
   "cell_type": "code",
   "execution_count": 58,
   "metadata": {
    "ExecuteTime": {
     "end_time": "2018-12-28T02:40:59.525566Z",
     "start_time": "2018-12-28T02:40:59.505280Z"
    },
    "nbgrader": {
     "grade": false,
     "grade_id": "cell-60985a0fe92e3ab9",
     "locked": true,
     "schema_version": 1,
     "solution": false
    }
   },
   "outputs": [
    {
     "name": "stdout",
     "output_type": "stream",
     "text": [
      "        Consumer Discretionary \t [0 1 0 0 0 0 1 0 0 0 0]\n",
      "              Consumer Staples \t [0 0 0 0 0 0 0 0 0 0 0]\n",
      "                        Energy \t [0 0 0 0 0 0 0 0 0 0 0]\n",
      "                    Financials \t [0 0 0 0 0 0 1 0 0 0 0]\n",
      "                   Health Care \t [0 0 0 0 0 0 2 0 0 0 0]\n",
      "                   Industrials \t [2 0 0 0 0 0 1 4 0 0 0]\n",
      "        Information Technology \t [2 0 0 0 0 0 0 0 0 0 0]\n",
      "                     Materials \t [0 0 0 0 0 1 0 0 0 0 0]\n",
      "                   Real Estate \t [1 0 0 0 1 0 0 0 0 0 0]\n",
      "    Telecommunication Services \t [0 0 0 0 0 0 0 0 0 0 0]\n",
      "                     Utilities \t [0 0 0 0 0 0 0 0 0 0 0]\n"
     ]
    }
   ],
   "source": [
    "for i in range(confusion_matrix.shape[0]):\n",
    "    print(\"%30s\" % number2sectorName[i], \"\\t\", confusion_matrix[i, :])"
   ]
  },
  {
   "cell_type": "markdown",
   "metadata": {
    "nbgrader": {
     "grade": false,
     "grade_id": "cell-0b2e2ac37d5f8694",
     "locked": true,
     "schema_version": 1,
     "solution": false
    }
   },
   "source": [
    "## Interpretation of confusion matrix\n",
    "\n",
    "Based on the confusion matrix generated, answer the following questions.\n",
    "\n",
    "Categories:\n",
    "```\n",
    "    0) Consumer Discretionary\n",
    "    1) Consumer Staples  \n",
    "    2) Energy  \n",
    "    3) Financials\n",
    "    4) Health Care   \n",
    "    5) Industrials   \n",
    "    6) Information Technology   \n",
    "    7) Materials   \n",
    "    8) Real Estate   \n",
    "    9) Telecommunication Services   \n",
    "    10) Utilities  \n",
    "```"
   ]
  },
  {
   "cell_type": "markdown",
   "metadata": {
    "nbgrader": {
     "grade": false,
     "grade_id": "cell-0b2e2ac37d5f8696",
     "locked": true,
     "schema_version": 1,
     "solution": false
    }
   },
   "source": [
    "### instructions for answering the questions in this section\n",
    "1. Each question has two parts: **ans** and **num_scen**\n",
    "    1. **ans**: A list with numbers corresponding to the different categories. For example, if the answer is Consumer Discretionary and Consumer Staples, the **ans** should be a **list** containing **single tuple**,i.e. `ans=[(0,1)]` \n",
    "    2. **num_scen**: Number of scenarios where the condition in the given question is applicable. For example, if the condition given in the question happens 5 times, the **num_scen** should return **5** as an integer, i.e. `num_scen=5`\n",
    "2. Type checks have been provided to validate the type of your answer\n",
    "3. Remember that just the answer for the given matrix should be enough, like the example below. **You do not have to write a generic function that answers the question for all confusion matrices.**\n",
    "\n",
    "Examples:\n",
    "```python\n",
    "def example_question():\n",
    "    ans = [(0,1),(2,3)] # sect 0 is confused with sect 1 and sect 2 is confused with sect 3\n",
    "    num_scen=4 # each of the elements in each pair is confused with the other 4 times.\n",
    "    return ans,num_scen\n",
    "```\n"
   ]
  },
  {
   "cell_type": "markdown",
   "metadata": {
    "nbgrader": {
     "grade": false,
     "grade_id": "cell-68c1242a396f9445",
     "locked": true,
     "schema_version": 1,
     "solution": false
    }
   },
   "source": [
    "### Question 1\n",
    "\n",
    "Which two sectors are most often confused with each other and how many times? \n",
    "\n",
    "```\n",
    "    0) Consumer Discretionary  \n",
    "    1) Consumer Staples  \n",
    "    2) Energy  \n",
    "    3) Financials\n",
    "    4) Health Care   \n",
    "    5) Industrials   \n",
    "    6) Information Technology   \n",
    "    7) Materials   \n",
    "    8) Real Estate   \n",
    "    9) Telecommunication Services   \n",
    "    10) Utilities  \n",
    "```\n"
   ]
  },
  {
   "cell_type": "code",
   "execution_count": 59,
   "metadata": {
    "ExecuteTime": {
     "end_time": "2018-12-28T02:44:44.975420Z",
     "start_time": "2018-12-28T02:44:44.963579Z"
    },
    "nbgrader": {
     "grade": false,
     "grade_id": "cell-67fa65ee294bbf52",
     "locked": false,
     "schema_version": 1,
     "solution": true
    }
   },
   "outputs": [],
   "source": [
    "def question_1():\n",
    "    #\n",
    "    # YOUR CODE HERE\n",
    "    #\n",
    "    ans1 = [(5,7)]\n",
    "    num_scen1 = 4\n",
    "    return ans1, num_scen1 "
   ]
  },
  {
   "cell_type": "code",
   "execution_count": 60,
   "metadata": {
    "ExecuteTime": {
     "end_time": "2018-12-28T02:44:45.873842Z",
     "start_time": "2018-12-28T02:44:45.864585Z"
    },
    "nbgrader": {
     "grade": true,
     "grade_id": "cell-bf7603962387df88",
     "locked": true,
     "points": 0,
     "schema_version": 1,
     "solution": false
    }
   },
   "outputs": [],
   "source": [
    "ans1, num_scen1 = question_1()\n",
    "assert type(ans1) == list, \"Incorrect type\"\n",
    "assert type(ans1[0]) == tuple, \"Incorrect type\"\n",
    "assert type(ans1[0][0]) == int, \"Incorrect type\"\n",
    "assert type(num_scen1) == int, \"Incorrect type\""
   ]
  },
  {
   "cell_type": "code",
   "execution_count": 34,
   "metadata": {
    "ExecuteTime": {
     "end_time": "2018-07-18T22:30:06.197974Z",
     "start_time": "2018-07-18T22:30:06.186139Z"
    },
    "collapsed": true,
    "nbgrader": {
     "grade": true,
     "grade_id": "ans1_to_compare",
     "locked": true,
     "points": 5,
     "schema_version": 1,
     "solution": false
    }
   },
   "outputs": [],
   "source": [
    "# Hidden tests here\n",
    "#\n",
    "# AUTOGRADER TEST - DO NOT REMOVE\n",
    "#\n"
   ]
  },
  {
   "cell_type": "code",
   "execution_count": 35,
   "metadata": {
    "ExecuteTime": {
     "end_time": "2018-07-18T22:30:06.206841Z",
     "start_time": "2018-07-18T22:30:06.201227Z"
    },
    "collapsed": true,
    "nbgrader": {
     "grade": true,
     "grade_id": "num_scen1",
     "locked": true,
     "points": 5,
     "schema_version": 1,
     "solution": false
    }
   },
   "outputs": [],
   "source": [
    "# Hidden tests here\n",
    "#\n",
    "# AUTOGRADER TEST - DO NOT REMOVE\n",
    "#\n"
   ]
  },
  {
   "cell_type": "markdown",
   "metadata": {
    "nbgrader": {
     "grade": false,
     "grade_id": "cell-85c8458857446214",
     "locked": true,
     "schema_version": 1,
     "solution": false
    }
   },
   "source": [
    "### Question 2\n",
    "We call a sector `s` \"diffuse\" if it is common for an example whose correct label is `s` to have another sector get the highest score while `s` gets the second to largest score. In other words, find the sector(s) that has/have the highest score but get(s) predicted as the second place for the most number of time. Also return the number of times that this happened for these sectors.\n",
    "\n",
    "Which sectors `s` are the most diffuse? For how many examples does diffusion happen?\n",
    "\n",
    "```\n",
    "    0) Consumer Discretionary  \n",
    "    1) Consumer Staples  \n",
    "    2) Energy  \n",
    "    3) Financials\n",
    "    4) Health Care   \n",
    "    5) Industrials   \n",
    "    6) Information Technology   \n",
    "    7) Materials   \n",
    "    8) Real Estate   \n",
    "    9) Telecommunication Services   \n",
    "    10) Utilities  \n",
    "```\n",
    "\n",
    "**Format of answer**\n",
    "\n",
    "Your answer should have the following format:\n",
    "```python\n",
    "def question_2():\n",
    "    ans2 = <list of numbers>\n",
    "    num_scen2= <int>\n",
    "    return ans2,num_scen2\n",
    "```\n"
   ]
  },
  {
   "cell_type": "code",
   "execution_count": 63,
   "metadata": {
    "ExecuteTime": {
     "end_time": "2018-12-28T02:47:57.826420Z",
     "start_time": "2018-12-28T02:47:57.818811Z"
    },
    "nbgrader": {
     "grade": false,
     "grade_id": "cell-5bbb66c3399f6182",
     "locked": false,
     "schema_version": 1,
     "solution": true
    }
   },
   "outputs": [],
   "source": [
    "def question_2():\n",
    "    #\n",
    "    # YOUR CODE HERE\n",
    "    #\n",
    "    ans2 = [0,6,7]\n",
    "    num_scen2 = 7\n",
    "    return ans2, num_scen2 "
   ]
  },
  {
   "cell_type": "code",
   "execution_count": 64,
   "metadata": {
    "ExecuteTime": {
     "end_time": "2018-12-28T02:47:58.375520Z",
     "start_time": "2018-12-28T02:47:58.370630Z"
    },
    "nbgrader": {
     "grade": true,
     "grade_id": "cell-3a56a331a146b70f",
     "locked": true,
     "points": 0,
     "schema_version": 1,
     "solution": false
    }
   },
   "outputs": [],
   "source": [
    "ans2, num_scen2 = question_2()\n",
    "assert type(ans2) == list, \"Incorrect type\"\n",
    "assert type(ans2[0]) == int, \"Incorrect type\"\n",
    "assert type(num_scen2) == int, \"Incorrect type\""
   ]
  },
  {
   "cell_type": "code",
   "execution_count": 38,
   "metadata": {
    "ExecuteTime": {
     "end_time": "2018-07-18T22:30:06.242355Z",
     "start_time": "2018-07-18T22:30:06.236551Z"
    },
    "collapsed": true,
    "nbgrader": {
     "grade": true,
     "grade_id": "ans2",
     "locked": true,
     "points": 5,
     "schema_version": 1,
     "solution": false
    }
   },
   "outputs": [],
   "source": [
    "# Hidden tests here\n",
    "#\n",
    "# AUTOGRADER TEST - DO NOT REMOVE\n",
    "#\n"
   ]
  },
  {
   "cell_type": "code",
   "execution_count": 39,
   "metadata": {
    "ExecuteTime": {
     "end_time": "2018-07-18T22:30:06.252700Z",
     "start_time": "2018-07-18T22:30:06.246910Z"
    },
    "collapsed": true,
    "nbgrader": {
     "grade": true,
     "grade_id": "num_scen2",
     "locked": true,
     "points": 5,
     "schema_version": 1,
     "solution": false
    }
   },
   "outputs": [],
   "source": [
    "# Hidden tests here\n",
    "#\n",
    "# AUTOGRADER TEST - DO NOT REMOVE\n",
    "#\n"
   ]
  },
  {
   "cell_type": "markdown",
   "metadata": {
    "nbgrader": {
     "grade": false,
     "grade_id": "cell-f83c4f45ece367e2",
     "locked": true,
     "schema_version": 1,
     "solution": false
    }
   },
   "source": [
    "### Note for question 3 and 4\n",
    "**Note**: Ideally, the next two questions require you to generate a different confusion matrix. Instead of relying on the matrix above, you should write your own code to find the answers to the questions. You don't have to create another confusion matrix though, if you think carefully about the relation between the **top predicted sector** and **the labeled sector**. See specific hint below.\n"
   ]
  },
  {
   "cell_type": "markdown",
   "metadata": {
    "nbgrader": {
     "grade": false,
     "grade_id": "cell-c173a5759f316028",
     "locked": true,
     "schema_version": 1,
     "solution": false
    }
   },
   "source": [
    "### Question 3\n",
    "\n",
    "Which category/categories is/are never identified? In other words, which category/categories are never predicted as the top prediction?\n",
    "```\n",
    "    0) Consumer Discretionary  \n",
    "    1) Consumer Staples  \n",
    "    2) Energy  \n",
    "    3) Financials\n",
    "    4) Health Care   \n",
    "    5) Industrials   \n",
    "    6) Information Technology   \n",
    "    7) Materials   \n",
    "    8) Real Estate   \n",
    "    9) Telecommunication Services   \n",
    "    10) Utilities  \n",
    "```\n",
    "\n",
    "**Hint: create an array that records the number of times each sector is predicted as the top prediction, then find the minimum values.**\n",
    "\n",
    "**Format of answer**\n",
    "\n",
    "Your answer should have the following format:\n",
    "```python\n",
    "def question_3():\n",
    "    ans3 = <list of numbers>\n",
    "    return ans3\n",
    "```\n",
    "\n",
    "**Note: num_scen3 is not required to be returned for this question, only ans3 is needed**"
   ]
  },
  {
   "cell_type": "code",
   "execution_count": 80,
   "metadata": {
    "ExecuteTime": {
     "end_time": "2018-12-28T02:57:33.410121Z",
     "start_time": "2018-12-28T02:57:33.398118Z"
    },
    "nbgrader": {
     "grade": false,
     "grade_id": "cell-34137c1c5",
     "locked": false,
     "schema_version": 1,
     "solution": true
    }
   },
   "outputs": [],
   "source": [
    "def question_3():\n",
    "    #\n",
    "    # YOUR CODE HERE\n",
    "    #\n",
    "    array = [sum(i[i!=0]) for i in confusion_matrix[:,]]\n",
    "    ans3 = [i for i in range(len(array)) if array[i] == 0]\n",
    "    \n",
    "    return ans3"
   ]
  },
  {
   "cell_type": "code",
   "execution_count": 81,
   "metadata": {
    "ExecuteTime": {
     "end_time": "2018-12-28T02:57:33.941909Z",
     "start_time": "2018-12-28T02:57:33.936910Z"
    },
    "nbgrader": {
     "grade": true,
     "grade_id": "cell-3aa146b7lkbn0f",
     "locked": true,
     "points": 0,
     "schema_version": 1,
     "solution": false
    }
   },
   "outputs": [],
   "source": [
    "ans3 = question_3()\n",
    "assert type(ans3) == list, \"Incorrect type\"\n",
    "assert type(ans3[0]) == int, \"Incorrect type\""
   ]
  },
  {
   "cell_type": "code",
   "execution_count": 82,
   "metadata": {
    "ExecuteTime": {
     "end_time": "2018-12-28T02:57:35.657371Z",
     "start_time": "2018-12-28T02:57:35.642956Z"
    },
    "nbgrader": {
     "grade": true,
     "grade_id": "ans3",
     "locked": true,
     "points": 5,
     "schema_version": 1,
     "solution": false
    }
   },
   "outputs": [],
   "source": [
    "# Hidden tests here\n",
    "#\n",
    "# AUTOGRADER TEST - DO NOT REMOVE\n",
    "#\n"
   ]
  },
  {
   "cell_type": "markdown",
   "metadata": {
    "nbgrader": {
     "grade": false,
     "grade_id": "cell-f9ee96fe2999445d",
     "locked": true,
     "schema_version": 1,
     "solution": false
    }
   },
   "source": [
    "### Question 4\n",
    "\n",
    "Which sector(s) is/are most often missed while classifying? In other words, find the sector for which there is the largest number of examples such that the correct label does not appear as the top prediction.\n",
    "\n",
    "\n",
    "```\n",
    "    0) Consumer Discretionary  \n",
    "    1) Consumer Staples  \n",
    "    2) Energy  \n",
    "    3) Financials\n",
    "    4) Health Care   \n",
    "    5) Industrials   \n",
    "    6) Information Technology   \n",
    "    7) Materials   \n",
    "    8) Real Estate   \n",
    "    9) Telecommunication Services   \n",
    "    10) Utilities  \n",
    "```\n",
    "\n",
    "**Hint: create an array that records the number of times that a labeled sector is not predicted as the top prediction, then located the largest values.**\n",
    "\n",
    "**Format of answer**\n",
    "\n",
    "Your answer should have the following format:\n",
    "```python\n",
    "def question_4():\n",
    "    ans4 = <list of numbers>\n",
    "    num_scen4= <int>\n",
    "    return ans4,num_scen4\n",
    "```"
   ]
  },
  {
   "cell_type": "code",
   "execution_count": 98,
   "metadata": {
    "ExecuteTime": {
     "end_time": "2018-12-28T03:06:41.824449Z",
     "start_time": "2018-12-28T03:06:41.813660Z"
    },
    "nbgrader": {
     "grade": false,
     "grade_id": "cell-34vd137c1c5",
     "locked": false,
     "schema_version": 1,
     "solution": true
    }
   },
   "outputs": [],
   "source": [
    "def question_4():\n",
    "    #\n",
    "    # YOUR CODE HERE\n",
    "    #\n",
    "    array = np.array([len(i[i!=0]) for i in confusion_matrix])\n",
    "    ans4 = [np.argmax(array)]\n",
    "    num_scen4 = int(np.max(array))\n",
    "    \n",
    "    return ans4, num_scen4 "
   ]
  },
  {
   "cell_type": "code",
   "execution_count": 99,
   "metadata": {
    "ExecuteTime": {
     "end_time": "2018-12-28T03:06:42.376823Z",
     "start_time": "2018-12-28T03:06:42.372261Z"
    },
    "nbgrader": {
     "grade": true,
     "grade_id": "cell-3aa146bsdv7lkbn0f",
     "locked": true,
     "points": 0,
     "schema_version": 1,
     "solution": false
    }
   },
   "outputs": [],
   "source": [
    "ans4, num_scen4 = question_4()\n",
    "assert type(ans4) == list, \"Incorrect type\"\n",
    "assert type(num_scen4) == int, \"Incorrect type\""
   ]
  },
  {
   "cell_type": "code",
   "execution_count": 45,
   "metadata": {
    "ExecuteTime": {
     "end_time": "2018-07-18T22:30:06.313079Z",
     "start_time": "2018-07-18T22:30:06.308231Z"
    },
    "collapsed": true,
    "nbgrader": {
     "grade": true,
     "grade_id": "ans4",
     "locked": true,
     "points": 7,
     "schema_version": 1,
     "solution": false
    }
   },
   "outputs": [],
   "source": [
    "# Hidden tests here\n",
    "#\n",
    "# AUTOGRADER TEST - DO NOT REMOVE\n",
    "#\n"
   ]
  },
  {
   "cell_type": "code",
   "execution_count": 46,
   "metadata": {
    "ExecuteTime": {
     "end_time": "2018-07-18T22:30:06.320983Z",
     "start_time": "2018-07-18T22:30:06.316525Z"
    },
    "collapsed": true,
    "nbgrader": {
     "grade": true,
     "grade_id": "num_scen4",
     "locked": true,
     "points": 7,
     "schema_version": 1,
     "solution": false
    }
   },
   "outputs": [],
   "source": [
    "# Hidden tests here\n",
    "#\n",
    "# AUTOGRADER TEST - DO NOT REMOVE\n",
    "#\n"
   ]
  },
  {
   "cell_type": "markdown",
   "metadata": {
    "nbgrader": {
     "grade": false,
     "grade_id": "abc",
     "locked": true,
     "solution": false
    }
   },
   "source": [
    "80 points"
   ]
  }
 ],
 "metadata": {
  "celltoolbar": "Create Assignment",
  "hide_input": false,
  "kernelspec": {
   "display_name": "Python 3",
   "language": "python",
   "name": "python3"
  },
  "language_info": {
   "codemirror_mode": {
    "name": "ipython",
    "version": 3
   },
   "file_extension": ".py",
   "mimetype": "text/x-python",
   "name": "python",
   "nbconvert_exporter": "python",
   "pygments_lexer": "ipython3",
   "version": "3.6.5"
  },
  "toc": {
   "base_numbering": 1,
   "nav_menu": [],
   "number_sections": true,
   "sideBar": true,
   "skip_h1_title": false,
   "title_cell": "Table of Contents",
   "title_sidebar": "Contents",
   "toc_cell": false,
   "toc_position": [],
   "toc_section_display": true,
   "toc_window_display": false
  },
  "varInspector": {
   "cols": {
    "lenName": 16,
    "lenType": 16,
    "lenVar": 40
   },
   "kernels_config": {
    "python": {
     "delete_cmd_postfix": "",
     "delete_cmd_prefix": "del ",
     "library": "var_list.py",
     "varRefreshCmd": "print(var_dic_list())"
    },
    "r": {
     "delete_cmd_postfix": ") ",
     "delete_cmd_prefix": "rm(",
     "library": "var_list.r",
     "varRefreshCmd": "cat(var_dic_list()) "
    }
   },
   "types_to_exclude": [
    "module",
    "function",
    "builtin_function_or_method",
    "instance",
    "_Feature"
   ],
   "window_display": false
  }
 },
 "nbformat": 4,
 "nbformat_minor": 2
}
